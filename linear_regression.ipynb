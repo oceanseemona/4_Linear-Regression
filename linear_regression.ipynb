{
 "cells": [
  {
   "cell_type": "code",
   "execution_count": 1,
   "metadata": {},
   "outputs": [],
   "source": [
    "import pandas as pd\n",
    "import numpy as np\n",
    "import matplotlib.pyplot as plt\n",
    "data = pd.read_csv(r\"real_estate.csv\").to_numpy()"
   ]
  },
  {
   "cell_type": "code",
   "execution_count": 2,
   "metadata": {},
   "outputs": [],
   "source": [
    "X1=data[:,2]\n",
    "X2=data[:,3]\n",
    "X3=data[:,4]\n",
    "X4=data[:,5]\n",
    "X5=data[:,6]\n",
    "\n",
    "Y=data[:,7]\n"
   ]
  },
  {
   "cell_type": "markdown",
   "metadata": {},
   "source": [
    "## **Regression Constant** \n",
    "\n",
    ">$w1 = \\frac{\\Sigma y (\\Sigma x^2) - (\\Sigma x)(\\Sigma xy)}{n\\Sigma x^2 - (\\Sigma x)^2} $\n",
    "\n",
    "## **Regression Coefficient**\n",
    "\n",
    ">$w2 = \\frac{\\Sigma x \\Sigma y - n \\Sigma xy}{(\\Sigma x)^2 - n\\Sigma x^2} $\n",
    "\n",
    "## Regression Line Formula\n",
    "\n",
    "> $\\hat y = w_1 + w_2x$"
   ]
  },
  {
   "cell_type": "code",
   "execution_count": 3,
   "metadata": {},
   "outputs": [],
   "source": [
    "def calc(X,Y):\n",
    "    n=X.shape[0]\n",
    "    num=((Y * ((X**2).sum())).sum()) - ((X.sum()) * ((X*Y).sum()))\n",
    "    den=((n * ((X**2).sum())) - ((X.sum())**2))\n",
    "    w1 = num/den\n",
    "    w2 = ((X.sum()*Y.sum()) - (n*(X*Y).sum())) / ((X.sum()**2)-(n*(X**2).sum()))\n",
    "    return w1,w2"
   ]
  },
  {
   "cell_type": "markdown",
   "metadata": {},
   "source": [
    "## X1"
   ]
  },
  {
   "cell_type": "code",
   "execution_count": 4,
   "metadata": {},
   "outputs": [
    {
     "name": "stdout",
     "output_type": "stream",
     "text": [
      "42.43469704626292\n",
      "-0.2514884190853456\n"
     ]
    }
   ],
   "source": [
    "w1,w2=calc(X1,Y)\n",
    "print(w1)\n",
    "print(w2)\n",
    "Y1=w1+(w2*X1)"
   ]
  },
  {
   "cell_type": "code",
   "execution_count": 5,
   "metadata": {},
   "outputs": [
    {
     "data": {
      "image/png": "[encoded data removed]",
      "text/plain": [
       "<Figure size 432x288 with 1 Axes>"
      ]
     },
     "metadata": {
      "needs_background": "light"
     },
     "output_type": "display_data"
    }
   ],
   "source": [
    "plt.plot(X1,Y,'*')\n",
    "plt.plot(X1,Y1)\n",
    "plt.xlabel('House Age (X1)')\n",
    "plt.ylabel('House Price (Y)')\n",
    "plt.legend([\"Data point\",\"Fitted Regression line\"])\n",
    "plt.show()"
   ]
  },
  {
   "cell_type": "code",
   "execution_count": 6,
   "metadata": {},
   "outputs": [
    {
     "data": {
      "text/html": [
       "<div>\n",
       "<style scoped>\n",
       "    .dataframe tbody tr th:only-of-type {\n",
       "        vertical-align: middle;\n",
       "    }\n",
       "\n",
       "    .dataframe tbody tr th {\n",
       "        vertical-align: top;\n",
       "    }\n",
       "\n",
       "    .dataframe thead th {\n",
       "        text-align: right;\n",
       "    }\n",
       "</style>\n",
       "<table border=\"1\" class=\"dataframe\">\n",
       "  <thead>\n",
       "    <tr style=\"text-align: right;\">\n",
       "      <th></th>\n",
       "      <th>Standard Order</th>\n",
       "      <th>Actual Value(Y)</th>\n",
       "      <th>Fitted Value(Y1)</th>\n",
       "      <th>Residual</th>\n",
       "    </tr>\n",
       "  </thead>\n",
       "  <tbody>\n",
       "    <tr>\n",
       "      <th>0</th>\n",
       "      <td>1.0</td>\n",
       "      <td>37.9</td>\n",
       "      <td>34.387068</td>\n",
       "      <td>3.512932</td>\n",
       "    </tr>\n",
       "    <tr>\n",
       "      <th>1</th>\n",
       "      <td>2.0</td>\n",
       "      <td>42.2</td>\n",
       "      <td>37.530673</td>\n",
       "      <td>4.669327</td>\n",
       "    </tr>\n",
       "    <tr>\n",
       "      <th>2</th>\n",
       "      <td>3.0</td>\n",
       "      <td>47.3</td>\n",
       "      <td>39.089901</td>\n",
       "      <td>8.210099</td>\n",
       "    </tr>\n",
       "    <tr>\n",
       "      <th>3</th>\n",
       "      <td>4.0</td>\n",
       "      <td>54.8</td>\n",
       "      <td>39.089901</td>\n",
       "      <td>15.710099</td>\n",
       "    </tr>\n",
       "    <tr>\n",
       "      <th>4</th>\n",
       "      <td>5.0</td>\n",
       "      <td>43.1</td>\n",
       "      <td>41.177255</td>\n",
       "      <td>1.922745</td>\n",
       "    </tr>\n",
       "    <tr>\n",
       "      <th>...</th>\n",
       "      <td>...</td>\n",
       "      <td>...</td>\n",
       "      <td>...</td>\n",
       "      <td>...</td>\n",
       "    </tr>\n",
       "    <tr>\n",
       "      <th>409</th>\n",
       "      <td>410.0</td>\n",
       "      <td>15.4</td>\n",
       "      <td>38.989306</td>\n",
       "      <td>-23.589306</td>\n",
       "    </tr>\n",
       "    <tr>\n",
       "      <th>410</th>\n",
       "      <td>411.0</td>\n",
       "      <td>50.0</td>\n",
       "      <td>41.026362</td>\n",
       "      <td>8.973638</td>\n",
       "    </tr>\n",
       "    <tr>\n",
       "      <th>411</th>\n",
       "      <td>412.0</td>\n",
       "      <td>40.6</td>\n",
       "      <td>37.706715</td>\n",
       "      <td>2.893285</td>\n",
       "    </tr>\n",
       "    <tr>\n",
       "      <th>412</th>\n",
       "      <td>413.0</td>\n",
       "      <td>52.5</td>\n",
       "      <td>40.397641</td>\n",
       "      <td>12.102359</td>\n",
       "    </tr>\n",
       "    <tr>\n",
       "      <th>413</th>\n",
       "      <td>414.0</td>\n",
       "      <td>63.9</td>\n",
       "      <td>40.800022</td>\n",
       "      <td>23.099978</td>\n",
       "    </tr>\n",
       "  </tbody>\n",
       "</table>\n",
       "<p>414 rows × 4 columns</p>\n",
       "</div>"
      ],
      "text/plain": [
       "     Standard Order  Actual Value(Y)  Fitted Value(Y1)   Residual\n",
       "0               1.0             37.9         34.387068   3.512932\n",
       "1               2.0             42.2         37.530673   4.669327\n",
       "2               3.0             47.3         39.089901   8.210099\n",
       "3               4.0             54.8         39.089901  15.710099\n",
       "4               5.0             43.1         41.177255   1.922745\n",
       "..              ...              ...               ...        ...\n",
       "409           410.0             15.4         38.989306 -23.589306\n",
       "410           411.0             50.0         41.026362   8.973638\n",
       "411           412.0             40.6         37.706715   2.893285\n",
       "412           413.0             52.5         40.397641  12.102359\n",
       "413           414.0             63.9         40.800022  23.099978\n",
       "\n",
       "[414 rows x 4 columns]"
      ]
     },
     "execution_count": 6,
     "metadata": {},
     "output_type": "execute_result"
    }
   ],
   "source": [
    "e1=Y-Y1\n",
    "table=np.zeros((len(Y),4))\n",
    "table[:,0]=np.arange(1,len(Y)+1)\n",
    "table[:,1]=Y\n",
    "table[:,2]=Y1\n",
    "table[:,3]=e1\n",
    "df=pd.DataFrame(table, columns = ['Standard Order','Actual Value(Y)','Fitted Value(Y1)','Residual'])\n",
    "df"
   ]
  },
  {
   "cell_type": "code",
   "execution_count": 7,
   "metadata": {
    "scrolled": true
   },
   "outputs": [
    {
     "name": "stdout",
     "output_type": "stream",
     "text": [
      "Error Result: \n",
      "\n",
      "MAE: 10.524765849789237\n",
      "MSE: 176.50047403131393\n",
      "RMSE: 13.285348095978287\n"
     ]
    }
   ],
   "source": [
    "mse_f = np.mean(e1**2)\n",
    "mae_f = np.mean(abs(e1))\n",
    "rmse_f = np.sqrt(mse_f)\n",
    "\n",
    "print(\"Error Result: \")\n",
    "print()\n",
    "print(\"MAE:\",mae_f)\n",
    "print(\"MSE:\", mse_f)\n",
    "print(\"RMSE:\", rmse_f)"
   ]
  },
  {
   "cell_type": "markdown",
   "metadata": {},
   "source": [
    "## X2"
   ]
  },
  {
   "cell_type": "code",
   "execution_count": 8,
   "metadata": {},
   "outputs": [
    {
     "name": "stdout",
     "output_type": "stream",
     "text": [
      "45.851427057774984\n",
      "-0.007262051618149461\n"
     ]
    }
   ],
   "source": [
    "w1,w2=calc(X2,Y)\n",
    "print(w1)\n",
    "print(w2)\n",
    "Y2=w1+(w2*X2)\n"
   ]
  },
  {
   "cell_type": "code",
   "execution_count": 9,
   "metadata": {},
   "outputs": [
    {
     "data": {
      "image/png": "[encoded data removed]",
      "text/plain": [
       "<Figure size 432x288 with 1 Axes>"
      ]
     },
     "metadata": {
      "needs_background": "light"
     },
     "output_type": "display_data"
    }
   ],
   "source": [
    "plt.plot(X2,Y,'*')\n",
    "plt.plot(X2,Y2)\n",
    "plt.xlabel('Distance to the nearest MRT station (X2)')\n",
    "plt.ylabel('House Price (Y)')\n",
    "plt.legend([\"Data point\",\"Fitted Regression line\"])\n",
    "plt.show()"
   ]
  },
  {
   "cell_type": "code",
   "execution_count": 10,
   "metadata": {},
   "outputs": [
    {
     "data": {
      "text/html": [
       "<div>\n",
       "<style scoped>\n",
       "    .dataframe tbody tr th:only-of-type {\n",
       "        vertical-align: middle;\n",
       "    }\n",
       "\n",
       "    .dataframe tbody tr th {\n",
       "        vertical-align: top;\n",
       "    }\n",
       "\n",
       "    .dataframe thead th {\n",
       "        text-align: right;\n",
       "    }\n",
       "</style>\n",
       "<table border=\"1\" class=\"dataframe\">\n",
       "  <thead>\n",
       "    <tr style=\"text-align: right;\">\n",
       "      <th></th>\n",
       "      <th>Standard Order</th>\n",
       "      <th>Actual Value(Y)</th>\n",
       "      <th>Fitted Value(Y2)</th>\n",
       "      <th>Residual</th>\n",
       "    </tr>\n",
       "  </thead>\n",
       "  <tbody>\n",
       "    <tr>\n",
       "      <th>0</th>\n",
       "      <td>1.0</td>\n",
       "      <td>37.9</td>\n",
       "      <td>45.235033</td>\n",
       "      <td>-7.335033</td>\n",
       "    </tr>\n",
       "    <tr>\n",
       "      <th>1</th>\n",
       "      <td>2.0</td>\n",
       "      <td>42.2</td>\n",
       "      <td>43.624921</td>\n",
       "      <td>-1.424921</td>\n",
       "    </tr>\n",
       "    <tr>\n",
       "      <th>2</th>\n",
       "      <td>3.0</td>\n",
       "      <td>47.3</td>\n",
       "      <td>41.770267</td>\n",
       "      <td>5.529733</td>\n",
       "    </tr>\n",
       "    <tr>\n",
       "      <th>3</th>\n",
       "      <td>4.0</td>\n",
       "      <td>54.8</td>\n",
       "      <td>41.770267</td>\n",
       "      <td>13.029733</td>\n",
       "    </tr>\n",
       "    <tr>\n",
       "      <th>4</th>\n",
       "      <td>5.0</td>\n",
       "      <td>43.1</td>\n",
       "      <td>43.015099</td>\n",
       "      <td>0.084901</td>\n",
       "    </tr>\n",
       "    <tr>\n",
       "      <th>...</th>\n",
       "      <td>...</td>\n",
       "      <td>...</td>\n",
       "      <td>...</td>\n",
       "      <td>...</td>\n",
       "    </tr>\n",
       "    <tr>\n",
       "      <th>409</th>\n",
       "      <td>410.0</td>\n",
       "      <td>15.4</td>\n",
       "      <td>16.207623</td>\n",
       "      <td>-0.807623</td>\n",
       "    </tr>\n",
       "    <tr>\n",
       "      <th>410</th>\n",
       "      <td>411.0</td>\n",
       "      <td>50.0</td>\n",
       "      <td>45.194530</td>\n",
       "      <td>4.805470</td>\n",
       "    </tr>\n",
       "    <tr>\n",
       "      <th>411</th>\n",
       "      <td>412.0</td>\n",
       "      <td>40.6</td>\n",
       "      <td>43.012186</td>\n",
       "      <td>-2.412186</td>\n",
       "    </tr>\n",
       "    <tr>\n",
       "      <th>412</th>\n",
       "      <td>413.0</td>\n",
       "      <td>52.5</td>\n",
       "      <td>45.090291</td>\n",
       "      <td>7.409709</td>\n",
       "    </tr>\n",
       "    <tr>\n",
       "      <th>413</th>\n",
       "      <td>414.0</td>\n",
       "      <td>63.9</td>\n",
       "      <td>45.194530</td>\n",
       "      <td>18.705470</td>\n",
       "    </tr>\n",
       "  </tbody>\n",
       "</table>\n",
       "<p>414 rows × 4 columns</p>\n",
       "</div>"
      ],
      "text/plain": [
       "     Standard Order  Actual Value(Y)  Fitted Value(Y2)   Residual\n",
       "0               1.0             37.9         45.235033  -7.335033\n",
       "1               2.0             42.2         43.624921  -1.424921\n",
       "2               3.0             47.3         41.770267   5.529733\n",
       "3               4.0             54.8         41.770267  13.029733\n",
       "4               5.0             43.1         43.015099   0.084901\n",
       "..              ...              ...               ...        ...\n",
       "409           410.0             15.4         16.207623  -0.807623\n",
       "410           411.0             50.0         45.194530   4.805470\n",
       "411           412.0             40.6         43.012186  -2.412186\n",
       "412           413.0             52.5         45.090291   7.409709\n",
       "413           414.0             63.9         45.194530  18.705470\n",
       "\n",
       "[414 rows x 4 columns]"
      ]
     },
     "execution_count": 10,
     "metadata": {},
     "output_type": "execute_result"
    }
   ],
   "source": [
    "e2=Y-Y2\n",
    "table=np.zeros((len(Y),4))\n",
    "table[:,0]=np.arange(1,len(Y)+1)\n",
    "table[:,1]=Y\n",
    "table[:,2]=Y2\n",
    "table[:,3]=e2\n",
    "df=pd.DataFrame(table, columns = ['Standard Order','Actual Value(Y)','Fitted Value(Y2)','Residual'])\n",
    "df"
   ]
  },
  {
   "cell_type": "code",
   "execution_count": 11,
   "metadata": {},
   "outputs": [
    {
     "name": "stdout",
     "output_type": "stream",
     "text": [
      "Error Result : \n",
      "\n",
      "MAE: 7.234886637311689\n",
      "MSE: 100.88574959799585\n",
      "RMSE: 10.044189842789505\n"
     ]
    }
   ],
   "source": [
    "mse_f = np.mean(e2**2)\n",
    "mae_f = np.mean(abs(e2))\n",
    "rmse_f = np.sqrt(mse_f)\n",
    "\n",
    "print(\"Error Result : \")\n",
    "print()\n",
    "print(\"MAE:\",mae_f)\n",
    "print(\"MSE:\", mse_f)\n",
    "print(\"RMSE:\", rmse_f)"
   ]
  },
  {
   "cell_type": "markdown",
   "metadata": {},
   "source": [
    "## X3"
   ]
  },
  {
   "cell_type": "code",
   "execution_count": 12,
   "metadata": {},
   "outputs": [
    {
     "name": "stdout",
     "output_type": "stream",
     "text": [
      "27.18110478147241\n",
      "2.637653463404375\n"
     ]
    }
   ],
   "source": [
    "w1,w2=calc(X3,Y)\n",
    "print(w1)\n",
    "print(w2)\n",
    "Y3=w1+(w2*X3)"
   ]
  },
  {
   "cell_type": "code",
   "execution_count": 13,
   "metadata": {},
   "outputs": [
    {
     "data": {
      "image/png": "[encoded data removed]",
      "text/plain": [
       "<Figure size 432x288 with 1 Axes>"
      ]
     },
     "metadata": {
      "needs_background": "light"
     },
     "output_type": "display_data"
    }
   ],
   "source": [
    "plt.plot(X3,Y,'*')\n",
    "plt.plot(X3,Y3)\n",
    "plt.xlabel('Number of convenience stores (X3)')\n",
    "plt.ylabel('House Price (Y)')\n",
    "plt.legend([\"Data point\",\"Fitted Regression line\"])\n",
    "plt.show()"
   ]
  },
  {
   "cell_type": "code",
   "execution_count": 14,
   "metadata": {},
   "outputs": [
    {
     "data": {
      "text/html": [
       "<div>\n",
       "<style scoped>\n",
       "    .dataframe tbody tr th:only-of-type {\n",
       "        vertical-align: middle;\n",
       "    }\n",
       "\n",
       "    .dataframe tbody tr th {\n",
       "        vertical-align: top;\n",
       "    }\n",
       "\n",
       "    .dataframe thead th {\n",
       "        text-align: right;\n",
       "    }\n",
       "</style>\n",
       "<table border=\"1\" class=\"dataframe\">\n",
       "  <thead>\n",
       "    <tr style=\"text-align: right;\">\n",
       "      <th></th>\n",
       "      <th>Standard Order</th>\n",
       "      <th>Actual Value(Y)</th>\n",
       "      <th>Fitted Value(Y3)</th>\n",
       "      <th>Residual</th>\n",
       "    </tr>\n",
       "  </thead>\n",
       "  <tbody>\n",
       "    <tr>\n",
       "      <th>0</th>\n",
       "      <td>1.0</td>\n",
       "      <td>37.9</td>\n",
       "      <td>53.557639</td>\n",
       "      <td>-15.657639</td>\n",
       "    </tr>\n",
       "    <tr>\n",
       "      <th>1</th>\n",
       "      <td>2.0</td>\n",
       "      <td>42.2</td>\n",
       "      <td>50.919986</td>\n",
       "      <td>-8.719986</td>\n",
       "    </tr>\n",
       "    <tr>\n",
       "      <th>2</th>\n",
       "      <td>3.0</td>\n",
       "      <td>47.3</td>\n",
       "      <td>40.369372</td>\n",
       "      <td>6.930628</td>\n",
       "    </tr>\n",
       "    <tr>\n",
       "      <th>3</th>\n",
       "      <td>4.0</td>\n",
       "      <td>54.8</td>\n",
       "      <td>40.369372</td>\n",
       "      <td>14.430628</td>\n",
       "    </tr>\n",
       "    <tr>\n",
       "      <th>4</th>\n",
       "      <td>5.0</td>\n",
       "      <td>43.1</td>\n",
       "      <td>40.369372</td>\n",
       "      <td>2.730628</td>\n",
       "    </tr>\n",
       "    <tr>\n",
       "      <th>...</th>\n",
       "      <td>...</td>\n",
       "      <td>...</td>\n",
       "      <td>...</td>\n",
       "      <td>...</td>\n",
       "    </tr>\n",
       "    <tr>\n",
       "      <th>409</th>\n",
       "      <td>410.0</td>\n",
       "      <td>15.4</td>\n",
       "      <td>27.181105</td>\n",
       "      <td>-11.781105</td>\n",
       "    </tr>\n",
       "    <tr>\n",
       "      <th>410</th>\n",
       "      <td>411.0</td>\n",
       "      <td>50.0</td>\n",
       "      <td>50.919986</td>\n",
       "      <td>-0.919986</td>\n",
       "    </tr>\n",
       "    <tr>\n",
       "      <th>411</th>\n",
       "      <td>412.0</td>\n",
       "      <td>40.6</td>\n",
       "      <td>45.644679</td>\n",
       "      <td>-5.044679</td>\n",
       "    </tr>\n",
       "    <tr>\n",
       "      <th>412</th>\n",
       "      <td>413.0</td>\n",
       "      <td>52.5</td>\n",
       "      <td>40.369372</td>\n",
       "      <td>12.130628</td>\n",
       "    </tr>\n",
       "    <tr>\n",
       "      <th>413</th>\n",
       "      <td>414.0</td>\n",
       "      <td>63.9</td>\n",
       "      <td>50.919986</td>\n",
       "      <td>12.980014</td>\n",
       "    </tr>\n",
       "  </tbody>\n",
       "</table>\n",
       "<p>414 rows × 4 columns</p>\n",
       "</div>"
      ],
      "text/plain": [
       "     Standard Order  Actual Value(Y)  Fitted Value(Y3)   Residual\n",
       "0               1.0             37.9         53.557639 -15.657639\n",
       "1               2.0             42.2         50.919986  -8.719986\n",
       "2               3.0             47.3         40.369372   6.930628\n",
       "3               4.0             54.8         40.369372  14.430628\n",
       "4               5.0             43.1         40.369372   2.730628\n",
       "..              ...              ...               ...        ...\n",
       "409           410.0             15.4         27.181105 -11.781105\n",
       "410           411.0             50.0         50.919986  -0.919986\n",
       "411           412.0             40.6         45.644679  -5.044679\n",
       "412           413.0             52.5         40.369372  12.130628\n",
       "413           414.0             63.9         50.919986  12.980014\n",
       "\n",
       "[414 rows x 4 columns]"
      ]
     },
     "execution_count": 14,
     "metadata": {},
     "output_type": "execute_result"
    }
   ],
   "source": [
    "e3=Y-Y3\n",
    "table=np.zeros((len(Y),4))\n",
    "table[:,0]=np.arange(1,len(Y)+1)\n",
    "table[:,1]=Y\n",
    "table[:,2]=Y3\n",
    "table[:,3]=e3\n",
    "df=pd.DataFrame(table, columns = ['Standard Order','Actual Value(Y)','Fitted Value(Y3)','Residual'])\n",
    "df"
   ]
  },
  {
   "cell_type": "code",
   "execution_count": 15,
   "metadata": {},
   "outputs": [
    {
     "name": "stdout",
     "output_type": "stream",
     "text": [
      "Error Result : \n",
      "\n",
      "MAE: 8.413103731505226\n",
      "MSE: 124.47199212769488\n",
      "RMSE: 11.156701668848857\n"
     ]
    }
   ],
   "source": [
    "mse_f = np.mean(e3**2)\n",
    "mae_f = np.mean(abs(e3))\n",
    "rmse_f = np.sqrt(mse_f)\n",
    "\n",
    "print(\"Error Result : \")\n",
    "print()\n",
    "print(\"MAE:\",mae_f)\n",
    "print(\"MSE:\", mse_f)\n",
    "print(\"RMSE:\", rmse_f)"
   ]
  },
  {
   "cell_type": "markdown",
   "metadata": {},
   "source": [
    "## X4"
   ]
  },
  {
   "cell_type": "code",
   "execution_count": 16,
   "metadata": {},
   "outputs": [
    {
     "name": "stdout",
     "output_type": "stream",
     "text": [
      "-14917.678089730854\n",
      "598.9683315520581\n"
     ]
    }
   ],
   "source": [
    "w1,w2=calc(X4,Y)\n",
    "print(w1)\n",
    "print(w2)\n",
    "Y4=w1+(w2*X4)"
   ]
  },
  {
   "cell_type": "code",
   "execution_count": 17,
   "metadata": {},
   "outputs": [
    {
     "data": {
      "image/png": "[encoded data removed]",
      "text/plain": [
       "<Figure size 432x288 with 1 Axes>"
      ]
     },
     "metadata": {
      "needs_background": "light"
     },
     "output_type": "display_data"
    }
   ],
   "source": [
    "plt.plot(X4,Y,'*')\n",
    "plt.plot(X4,Y4)\n",
    "plt.xlabel('Latitude (X4)')\n",
    "plt.ylabel('House Price (Y)')\n",
    "plt.legend([\"Data point\",\"Fitted Regression line\"])\n",
    "plt.show()"
   ]
  },
  {
   "cell_type": "code",
   "execution_count": 18,
   "metadata": {},
   "outputs": [
    {
     "data": {
      "text/html": [
       "<div>\n",
       "<style scoped>\n",
       "    .dataframe tbody tr th:only-of-type {\n",
       "        vertical-align: middle;\n",
       "    }\n",
       "\n",
       "    .dataframe tbody tr th {\n",
       "        vertical-align: top;\n",
       "    }\n",
       "\n",
       "    .dataframe thead th {\n",
       "        text-align: right;\n",
       "    }\n",
       "</style>\n",
       "<table border=\"1\" class=\"dataframe\">\n",
       "  <thead>\n",
       "    <tr style=\"text-align: right;\">\n",
       "      <th></th>\n",
       "      <th>Standard Order</th>\n",
       "      <th>Actual Value(Y)</th>\n",
       "      <th>Fitted Value(Y4)</th>\n",
       "      <th>Residual</th>\n",
       "    </tr>\n",
       "  </thead>\n",
       "  <tbody>\n",
       "    <tr>\n",
       "      <th>0</th>\n",
       "      <td>1.0</td>\n",
       "      <td>37.9</td>\n",
       "      <td>46.335758</td>\n",
       "      <td>-8.435758</td>\n",
       "    </tr>\n",
       "    <tr>\n",
       "      <th>1</th>\n",
       "      <td>2.0</td>\n",
       "      <td>42.2</td>\n",
       "      <td>44.754482</td>\n",
       "      <td>-2.554482</td>\n",
       "    </tr>\n",
       "    <tr>\n",
       "      <th>2</th>\n",
       "      <td>3.0</td>\n",
       "      <td>47.3</td>\n",
       "      <td>49.019136</td>\n",
       "      <td>-1.719136</td>\n",
       "    </tr>\n",
       "    <tr>\n",
       "      <th>3</th>\n",
       "      <td>4.0</td>\n",
       "      <td>54.8</td>\n",
       "      <td>49.019136</td>\n",
       "      <td>5.780864</td>\n",
       "    </tr>\n",
       "    <tr>\n",
       "      <th>4</th>\n",
       "      <td>5.0</td>\n",
       "      <td>43.1</td>\n",
       "      <td>44.173482</td>\n",
       "      <td>-1.073482</td>\n",
       "    </tr>\n",
       "    <tr>\n",
       "      <th>...</th>\n",
       "      <td>...</td>\n",
       "      <td>...</td>\n",
       "      <td>...</td>\n",
       "      <td>...</td>\n",
       "    </tr>\n",
       "    <tr>\n",
       "      <th>409</th>\n",
       "      <td>410.0</td>\n",
       "      <td>15.4</td>\n",
       "      <td>21.520500</td>\n",
       "      <td>-6.120500</td>\n",
       "    </tr>\n",
       "    <tr>\n",
       "      <th>410</th>\n",
       "      <td>411.0</td>\n",
       "      <td>50.0</td>\n",
       "      <td>41.154682</td>\n",
       "      <td>8.845318</td>\n",
       "    </tr>\n",
       "    <tr>\n",
       "      <th>411</th>\n",
       "      <td>412.0</td>\n",
       "      <td>40.6</td>\n",
       "      <td>44.089627</td>\n",
       "      <td>-3.489627</td>\n",
       "    </tr>\n",
       "    <tr>\n",
       "      <th>412</th>\n",
       "      <td>413.0</td>\n",
       "      <td>52.5</td>\n",
       "      <td>36.608512</td>\n",
       "      <td>15.891488</td>\n",
       "    </tr>\n",
       "    <tr>\n",
       "      <th>413</th>\n",
       "      <td>414.0</td>\n",
       "      <td>63.9</td>\n",
       "      <td>41.154682</td>\n",
       "      <td>22.745318</td>\n",
       "    </tr>\n",
       "  </tbody>\n",
       "</table>\n",
       "<p>414 rows × 4 columns</p>\n",
       "</div>"
      ],
      "text/plain": [
       "     Standard Order  Actual Value(Y)  Fitted Value(Y4)   Residual\n",
       "0               1.0             37.9         46.335758  -8.435758\n",
       "1               2.0             42.2         44.754482  -2.554482\n",
       "2               3.0             47.3         49.019136  -1.719136\n",
       "3               4.0             54.8         49.019136   5.780864\n",
       "4               5.0             43.1         44.173482  -1.073482\n",
       "..              ...              ...               ...        ...\n",
       "409           410.0             15.4         21.520500  -6.120500\n",
       "410           411.0             50.0         41.154682   8.845318\n",
       "411           412.0             40.6         44.089627  -3.489627\n",
       "412           413.0             52.5         36.608512  15.891488\n",
       "413           414.0             63.9         41.154682  22.745318\n",
       "\n",
       "[414 rows x 4 columns]"
      ]
     },
     "execution_count": 18,
     "metadata": {},
     "output_type": "execute_result"
    }
   ],
   "source": [
    "e4=Y-Y4\n",
    "table=np.zeros((len(Y),4))\n",
    "table[:,0]=np.arange(1,len(Y)+1)\n",
    "table[:,1]=Y\n",
    "table[:,2]=Y4\n",
    "table[:,3]=e4\n",
    "df=pd.DataFrame(table, columns = ['Standard Order','Actual Value(Y)','Fitted Value(Y4)','Residual'])\n",
    "df"
   ]
  },
  {
   "cell_type": "code",
   "execution_count": 19,
   "metadata": {},
   "outputs": [
    {
     "name": "stdout",
     "output_type": "stream",
     "text": [
      "Error Result : \n",
      "\n",
      "MAE: 8.486286468824183\n",
      "MSE: 129.5686138910063\n",
      "RMSE: 11.382820998812477\n"
     ]
    }
   ],
   "source": [
    "mse_f = np.mean(e4**2)\n",
    "mae_f = np.mean(abs(e4))\n",
    "rmse_f = np.sqrt(mse_f)\n",
    "\n",
    "print(\"Error Result : \")\n",
    "print()\n",
    "print(\"MAE:\",mae_f)\n",
    "print(\"MSE:\", mse_f)\n",
    "print(\"RMSE:\", rmse_f)"
   ]
  },
  {
   "cell_type": "markdown",
   "metadata": {},
   "source": [
    "## X5"
   ]
  },
  {
   "cell_type": "code",
   "execution_count": 20,
   "metadata": {},
   "outputs": [
    {
     "name": "stdout",
     "output_type": "stream",
     "text": [
      "-56345.569842760706\n",
      "463.9347544719179\n"
     ]
    }
   ],
   "source": [
    "w1,w2=calc(X5,Y)\n",
    "print(w1)\n",
    "print(w2)\n",
    "Y5=w1+(w2*X5)"
   ]
  },
  {
   "cell_type": "code",
   "execution_count": 21,
   "metadata": {},
   "outputs": [
    {
     "data": {
      "image/png": "[encoded data removed]",
      "text/plain": [
       "<Figure size 432x288 with 1 Axes>"
      ]
     },
     "metadata": {
      "needs_background": "light"
     },
     "output_type": "display_data"
    }
   ],
   "source": [
    "plt.plot(X5,Y,'*')\n",
    "plt.plot(X5,Y5)\n",
    "plt.xlabel('Longitude (X5)')\n",
    "plt.ylabel('House Price (Y)')\n",
    "plt.legend([\"Data point\",\"Fitted Regression line\"])\n",
    "plt.show()"
   ]
  },
  {
   "cell_type": "code",
   "execution_count": 22,
   "metadata": {},
   "outputs": [
    {
     "data": {
      "text/html": [
       "<div>\n",
       "<style scoped>\n",
       "    .dataframe tbody tr th:only-of-type {\n",
       "        vertical-align: middle;\n",
       "    }\n",
       "\n",
       "    .dataframe tbody tr th {\n",
       "        vertical-align: top;\n",
       "    }\n",
       "\n",
       "    .dataframe thead th {\n",
       "        text-align: right;\n",
       "    }\n",
       "</style>\n",
       "<table border=\"1\" class=\"dataframe\">\n",
       "  <thead>\n",
       "    <tr style=\"text-align: right;\">\n",
       "      <th></th>\n",
       "      <th>Standard Order</th>\n",
       "      <th>Actual Value(Y)</th>\n",
       "      <th>Fitted Value(Y5)</th>\n",
       "      <th>Residual</th>\n",
       "    </tr>\n",
       "  </thead>\n",
       "  <tbody>\n",
       "    <tr>\n",
       "      <th>0</th>\n",
       "      <td>1.0</td>\n",
       "      <td>37.9</td>\n",
       "      <td>41.171560</td>\n",
       "      <td>-3.271560</td>\n",
       "    </tr>\n",
       "    <tr>\n",
       "      <th>1</th>\n",
       "      <td>2.0</td>\n",
       "      <td>42.2</td>\n",
       "      <td>40.832888</td>\n",
       "      <td>1.367112</td>\n",
       "    </tr>\n",
       "    <tr>\n",
       "      <th>2</th>\n",
       "      <td>3.0</td>\n",
       "      <td>47.3</td>\n",
       "      <td>42.874201</td>\n",
       "      <td>4.425799</td>\n",
       "    </tr>\n",
       "    <tr>\n",
       "      <th>3</th>\n",
       "      <td>4.0</td>\n",
       "      <td>54.8</td>\n",
       "      <td>42.874201</td>\n",
       "      <td>11.925799</td>\n",
       "    </tr>\n",
       "    <tr>\n",
       "      <th>4</th>\n",
       "      <td>5.0</td>\n",
       "      <td>43.1</td>\n",
       "      <td>42.196856</td>\n",
       "      <td>0.903144</td>\n",
       "    </tr>\n",
       "    <tr>\n",
       "      <th>...</th>\n",
       "      <td>...</td>\n",
       "      <td>...</td>\n",
       "      <td>...</td>\n",
       "      <td>...</td>\n",
       "    </tr>\n",
       "    <tr>\n",
       "      <th>409</th>\n",
       "      <td>410.0</td>\n",
       "      <td>15.4</td>\n",
       "      <td>24.270417</td>\n",
       "      <td>-8.870417</td>\n",
       "    </tr>\n",
       "    <tr>\n",
       "      <th>410</th>\n",
       "      <td>411.0</td>\n",
       "      <td>50.0</td>\n",
       "      <td>42.498413</td>\n",
       "      <td>7.501587</td>\n",
       "    </tr>\n",
       "    <tr>\n",
       "      <th>411</th>\n",
       "      <td>412.0</td>\n",
       "      <td>40.6</td>\n",
       "      <td>40.995265</td>\n",
       "      <td>-0.395265</td>\n",
       "    </tr>\n",
       "    <tr>\n",
       "      <th>412</th>\n",
       "      <td>413.0</td>\n",
       "      <td>52.5</td>\n",
       "      <td>41.371052</td>\n",
       "      <td>11.128948</td>\n",
       "    </tr>\n",
       "    <tr>\n",
       "      <th>413</th>\n",
       "      <td>414.0</td>\n",
       "      <td>63.9</td>\n",
       "      <td>42.498413</td>\n",
       "      <td>21.401587</td>\n",
       "    </tr>\n",
       "  </tbody>\n",
       "</table>\n",
       "<p>414 rows × 4 columns</p>\n",
       "</div>"
      ],
      "text/plain": [
       "     Standard Order  Actual Value(Y)  Fitted Value(Y5)   Residual\n",
       "0               1.0             37.9         41.171560  -3.271560\n",
       "1               2.0             42.2         40.832888   1.367112\n",
       "2               3.0             47.3         42.874201   4.425799\n",
       "3               4.0             54.8         42.874201  11.925799\n",
       "4               5.0             43.1         42.196856   0.903144\n",
       "..              ...              ...               ...        ...\n",
       "409           410.0             15.4         24.270417  -8.870417\n",
       "410           411.0             50.0         42.498413   7.501587\n",
       "411           412.0             40.6         40.995265  -0.395265\n",
       "412           413.0             52.5         41.371052  11.128948\n",
       "413           414.0             63.9         42.498413  21.401587\n",
       "\n",
       "[414 rows x 4 columns]"
      ]
     },
     "execution_count": 22,
     "metadata": {},
     "output_type": "execute_result"
    }
   ],
   "source": [
    "e5=Y-Y5\n",
    "table=np.zeros((len(Y),4))\n",
    "table[:,0]=np.arange(1,len(Y)+1)\n",
    "table[:,1]=Y\n",
    "table[:,2]=Y5\n",
    "table[:,3]=e5\n",
    "df=pd.DataFrame(table, columns = ['Standard Order','Actual Value(Y)','Fitted Value(Y5)','Residual'])\n",
    "df"
   ]
  },
  {
   "cell_type": "code",
   "execution_count": 23,
   "metadata": {},
   "outputs": [
    {
     "name": "stdout",
     "output_type": "stream",
     "text": [
      "Error Result : \n",
      "\n",
      "MAE: 8.265761932145393\n",
      "MSE: 134.11606939002067\n",
      "RMSE: 11.580849251674968\n"
     ]
    }
   ],
   "source": [
    "mse_f = np.mean(e5**2)\n",
    "mae_f = np.mean(abs(e5))\n",
    "rmse_f = np.sqrt(mse_f)\n",
    "\n",
    "print(\"Error Result : \")\n",
    "print()\n",
    "print(\"MAE:\",mae_f)\n",
    "print(\"MSE:\", mse_f)\n",
    "print(\"RMSE:\", rmse_f)"
   ]
  },
  {
   "cell_type": "code",
   "execution_count": null,
   "metadata": {},
   "outputs": [],
   "source": []
  }
 ],
 "metadata": {
  "kernelspec": {
   "display_name": "Python 3",
   "language": "python",
   "name": "python3"
  },
  "language_info": {
   "codemirror_mode": {
    "name": "ipython",
    "version": 3
   },
   "file_extension": ".py",
   "mimetype": "text/x-python",
   "name": "python",
   "nbconvert_exporter": "python",
   "pygments_lexer": "ipython3",
   "version": "3.6.4"
  }
 },
 "nbformat": 4,
 "nbformat_minor": 4
}
